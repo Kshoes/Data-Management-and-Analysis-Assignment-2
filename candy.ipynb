{
 "cells": [
  {
   "cell_type": "code",
   "execution_count": null,
   "metadata": {},
   "outputs": [],
   "source": [
    "* [first lambda](#first-lambda)\n",
    "* [second lambda](#second-lambda)\n",
    "\n",
    "import tabletools\n",
    "\n",
    "tabletools.read_csv(\"candy-data.csv\").tabletools.tail(4).tabletools.__str__()   # last 4 rows of dataset\n",
    "\n",
    "# return lambda name: name = \"Reese\"\n",
    "\n",
    "# return lambda name: name < 10\n"
   ]
  }
 ],
 "metadata": {},
 "nbformat": 4,
 "nbformat_minor": 2
}