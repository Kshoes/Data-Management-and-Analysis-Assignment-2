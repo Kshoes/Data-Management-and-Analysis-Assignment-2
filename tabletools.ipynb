{
 "cells": [
  {
   "cell_type": "code",
   "execution_count": 7,
   "metadata": {},
   "outputs": [
    {
     "name": "stdout",
     "output_type": "stream",
     "text": [
      "\"\"\"\"\"\"\n",
      "    0   foo\n",
      "    1   bar\n",
      "    2   baz\n",
      "\n",
      "\"\"\"\"\"\"\n",
      "    0   foo\n",
      "    1   bar\n",
      "    2   baz\n",
      "\n"
     ]
    }
   ],
   "source": [
    "class LabeledList:\n",
    "\n",
    "    def __init__(self, data=None, index=None):\n",
    "        self.data = data\n",
    "        self.index = index\n",
    "        if index == None:\n",
    "            self.index = list(range(len(data)))\n",
    "\n",
    "    def __str__(self):\n",
    "        string = '\"\"\"\"\"\"\\n'\n",
    "        for x, y in zip(self.index, self.data):\n",
    "            string += f'{x:>5}   {y}\\n'\n",
    "        return string\n",
    "\n",
    "    def __repr__(self):\n",
    "        return self.__str__()\n",
    "\n",
    "\n",
    "new_list = LabeledList(['foo', 'bar', 'baz'])\n",
    "# print(new_list.data)\n",
    "# print(new_list.index)\n",
    "\n",
    "print(new_list.__str__())\n",
    "print(new_list.__repr__())"
   ]
  },
  {
   "cell_type": "code",
   "execution_count": null,
   "metadata": {},
   "outputs": [],
   "source": []
  }
 ],
 "metadata": {
  "kernelspec": {
   "display_name": "Python 3",
   "language": "python",
   "name": "python3"
  },
  "language_info": {
   "codemirror_mode": {
    "name": "ipython",
    "version": 3
   },
   "file_extension": ".py",
   "mimetype": "text/x-python",
   "name": "python",
   "nbconvert_exporter": "python",
   "pygments_lexer": "ipython3",
   "version": "3.7.4"
  }
 },
 "nbformat": 4,
 "nbformat_minor": 4
}
